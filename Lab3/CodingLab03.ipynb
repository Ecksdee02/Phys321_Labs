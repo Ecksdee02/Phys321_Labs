{
 "cells": [
  {
   "cell_type": "code",
   "execution_count": 7,
   "id": "ff579a46-85fe-4366-9ed8-a9f7e5a137c4",
   "metadata": {},
   "outputs": [
    {
     "name": "stdout",
     "output_type": "stream",
     "text": [
      "2\n"
     ]
    }
   ],
   "source": [
    "import numpy as np\n",
    "import matplotlib.pyplot as plt\n",
    "%matplotlib inline\n",
    "from scipy.optimize import curve_fit \n",
    "\n",
    "#Generates Number of Stars in each Frame [p(D)], of which there are len(D)\n",
    "def Pixels(D, p_0):\n",
    "    p=[None]*len(D)\n",
    "    i=0\n",
    "    while i< len(D):\n",
    "        p[i] = p_0*(D[i]/D[0])**2\n",
    "        i += 1\n",
    "    return p\n",
    "\n",
    "#Generates a D length array, where each entry has p random coordinates corresponding to the location of stars\n",
    "#of a given frame of distance D\n",
    "def Distribution(D, p, slength):\n",
    "    output = [None]*len(D)\n",
    "    i = 0\n",
    "    while i < len(D):\n",
    "        parent = [None]*2\n",
    "        x = np.random.uniform(0, slength, int(p[i]))\n",
    "        y = np.random.uniform(0, slength, int(p[i]))\n",
    "        parent[0] = x\n",
    "        parent[1] = y\n",
    "        output[i] = parent\n",
    "        i += 1\n",
    "    return output\n",
    "\n",
    "initp_0 = 2\n",
    "Distance = np.arange(2, 8, 2)\n",
    "pin = Pixels(Distance, initp_0)   \n",
    "test = Distribution(Distance, pin, 2)"
   ]
  },
  {
   "cell_type": "code",
   "execution_count": 4,
   "id": "3810c806-a73e-4940-b22b-8737d8f23da8",
   "metadata": {},
   "outputs": [
    {
     "ename": "IndexError",
     "evalue": "list assignment index out of range",
     "output_type": "error",
     "traceback": [
      "\u001b[0;31m---------------------------------------------------------------------------\u001b[0m",
      "\u001b[0;31mIndexError\u001b[0m                                Traceback (most recent call last)",
      "\u001b[0;32m/var/folders/bm/j5pxyqnj5dq28k2jcxxwlzpr0000gn/T/ipykernel_57520/1046219642.py\u001b[0m in \u001b[0;36m<module>\u001b[0;34m\u001b[0m\n\u001b[1;32m     17\u001b[0m     \u001b[0;32mreturn\u001b[0m \u001b[0mflux\u001b[0m\u001b[0;34m*\u001b[0m\u001b[0mnp\u001b[0m\u001b[0;34m.\u001b[0m\u001b[0msqrt\u001b[0m\u001b[0;34m(\u001b[0m\u001b[0mvariance\u001b[0m\u001b[0;34m)\u001b[0m\u001b[0;34m\u001b[0m\u001b[0;34m\u001b[0m\u001b[0m\n\u001b[1;32m     18\u001b[0m \u001b[0;34m\u001b[0m\u001b[0m\n\u001b[0;32m---> 19\u001b[0;31m \u001b[0mprint\u001b[0m\u001b[0;34m(\u001b[0m\u001b[0mfluxStdv\u001b[0m\u001b[0;34m(\u001b[0m\u001b[0mtest\u001b[0m\u001b[0;34m,\u001b[0m \u001b[0;36m2\u001b[0m\u001b[0;34m,\u001b[0m \u001b[0mDistance\u001b[0m\u001b[0;34m)\u001b[0m\u001b[0;34m)\u001b[0m\u001b[0;34m\u001b[0m\u001b[0;34m\u001b[0m\u001b[0m\n\u001b[0m",
      "\u001b[0;32m/var/folders/bm/j5pxyqnj5dq28k2jcxxwlzpr0000gn/T/ipykernel_57520/1046219642.py\u001b[0m in \u001b[0;36mfluxStdv\u001b[0;34m(lst_all, slength, D)\u001b[0m\n\u001b[1;32m      9\u001b[0m \u001b[0;34m\u001b[0m\u001b[0m\n\u001b[1;32m     10\u001b[0m \u001b[0;32mdef\u001b[0m \u001b[0mfluxStdv\u001b[0m\u001b[0;34m(\u001b[0m\u001b[0mlst_all\u001b[0m\u001b[0;34m,\u001b[0m \u001b[0mslength\u001b[0m\u001b[0;34m,\u001b[0m \u001b[0mD\u001b[0m\u001b[0;34m)\u001b[0m\u001b[0;34m:\u001b[0m\u001b[0;34m\u001b[0m\u001b[0;34m\u001b[0m\u001b[0m\n\u001b[0;32m---> 11\u001b[0;31m     \u001b[0mvariance\u001b[0m \u001b[0;34m=\u001b[0m \u001b[0mnstars\u001b[0m\u001b[0;34m(\u001b[0m\u001b[0mlst_all\u001b[0m\u001b[0;34m,\u001b[0m \u001b[0mslength\u001b[0m\u001b[0;34m)\u001b[0m\u001b[0;34m\u001b[0m\u001b[0;34m\u001b[0m\u001b[0m\n\u001b[0m\u001b[1;32m     12\u001b[0m     \u001b[0mflux\u001b[0m \u001b[0;34m=\u001b[0m \u001b[0;34m[\u001b[0m\u001b[0;34m]\u001b[0m\u001b[0;34m*\u001b[0m\u001b[0mlen\u001b[0m\u001b[0;34m(\u001b[0m\u001b[0mD\u001b[0m\u001b[0;34m)\u001b[0m\u001b[0;34m\u001b[0m\u001b[0;34m\u001b[0m\u001b[0m\n\u001b[1;32m     13\u001b[0m     \u001b[0mi\u001b[0m \u001b[0;34m=\u001b[0m \u001b[0;36m0\u001b[0m\u001b[0;34m\u001b[0m\u001b[0;34m\u001b[0m\u001b[0m\n",
      "\u001b[0;32m/var/folders/bm/j5pxyqnj5dq28k2jcxxwlzpr0000gn/T/ipykernel_57520/1046219642.py\u001b[0m in \u001b[0;36mnstars\u001b[0;34m(lst_all, slength)\u001b[0m\n\u001b[1;32m      4\u001b[0m     \u001b[0mi\u001b[0m \u001b[0;34m=\u001b[0m \u001b[0;36m0\u001b[0m\u001b[0;34m\u001b[0m\u001b[0;34m\u001b[0m\u001b[0m\n\u001b[1;32m      5\u001b[0m     \u001b[0;32mwhile\u001b[0m \u001b[0mi\u001b[0m \u001b[0;34m<\u001b[0m \u001b[0mlen\u001b[0m\u001b[0;34m(\u001b[0m\u001b[0mlst_all\u001b[0m\u001b[0;34m)\u001b[0m\u001b[0;34m-\u001b[0m\u001b[0;36m1\u001b[0m\u001b[0;34m:\u001b[0m\u001b[0;34m\u001b[0m\u001b[0;34m\u001b[0m\u001b[0m\n\u001b[0;32m----> 6\u001b[0;31m         \u001b[0moutput\u001b[0m\u001b[0;34m[\u001b[0m\u001b[0mi\u001b[0m\u001b[0;34m]\u001b[0m \u001b[0;34m=\u001b[0m \u001b[0mlen\u001b[0m\u001b[0;34m(\u001b[0m\u001b[0mlst_all\u001b[0m\u001b[0;34m[\u001b[0m\u001b[0mi\u001b[0m\u001b[0;34m]\u001b[0m\u001b[0;34m)\u001b[0m\u001b[0;34m/\u001b[0m\u001b[0mn_pixel\u001b[0m\u001b[0;34m\u001b[0m\u001b[0;34m\u001b[0m\u001b[0m\n\u001b[0m\u001b[1;32m      7\u001b[0m         \u001b[0mi\u001b[0m \u001b[0;34m+=\u001b[0m \u001b[0;36m1\u001b[0m\u001b[0;34m\u001b[0m\u001b[0;34m\u001b[0m\u001b[0m\n\u001b[1;32m      8\u001b[0m     \u001b[0;32mreturn\u001b[0m \u001b[0moutput\u001b[0m\u001b[0;34m\u001b[0m\u001b[0;34m\u001b[0m\u001b[0m\n",
      "\u001b[0;31mIndexError\u001b[0m: list assignment index out of range"
     ]
    }
   ],
   "source": [
    "def nstars(lst_all, slength):\n",
    "    n_pixel = slength**2 * 2 \n",
    "    output = []*len(lst_all)\n",
    "    i = 0\n",
    "    while i < len(lst_all):\n",
    "        output[i] = len(lst_all[i])/n_pixel\n",
    "        i += 1\n",
    "    return output\n",
    "\n",
    "def fluxStdv(lst_all, slength, D):\n",
    "    variance = nstars(lst_all, slength)\n",
    "    flux = []*len(D)\n",
    "    i = 0\n",
    "    while i < len(D):\n",
    "        flux[i] = 1/(D[i]/D[0])**2\n",
    "        i += 1\n",
    "    return flux*np.sqrt(variance)\n",
    "\n",
    "print(fluxStdv(test, 2, Distance))"
   ]
  },
  {
   "cell_type": "code",
   "execution_count": null,
   "id": "140ba304-7b6a-47d3-b7f5-82dd311afcc1",
   "metadata": {},
   "outputs": [],
   "source": []
  }
 ],
 "metadata": {
  "kernelspec": {
   "display_name": "Python 3 (ipykernel)",
   "language": "python",
   "name": "python3"
  },
  "language_info": {
   "codemirror_mode": {
    "name": "ipython",
    "version": 3
   },
   "file_extension": ".py",
   "mimetype": "text/x-python",
   "name": "python",
   "nbconvert_exporter": "python",
   "pygments_lexer": "ipython3",
   "version": "3.9.7"
  }
 },
 "nbformat": 4,
 "nbformat_minor": 5
}
