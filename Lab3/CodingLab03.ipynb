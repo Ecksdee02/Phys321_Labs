{
 "cells": [
  {
   "cell_type": "code",
   "execution_count": 11,
   "id": "ff579a46-85fe-4366-9ed8-a9f7e5a137c4",
   "metadata": {},
   "outputs": [],
   "source": [
    "import numpy as np\n",
    "import matplotlib.pyplot as plt\n",
    "%matplotlib inline\n",
    "from scipy.optimize import curve_fit \n",
    "\n",
    "#Generates Number of Stars in each Frame [p(D)], of which there are len(D)\n",
    "def Pixels(D, p_0):\n",
    "    p=[None]*len(D)\n",
    "    i=0\n",
    "    while i< len(D):\n",
    "        p[i] = p_0*(D[i]/D[0])**2\n",
    "        i += 1\n",
    "    return p\n",
    "\n",
    "#Generates p random coordinates, representing stars, for a given frame of distance D\n",
    "def Distribution(D, p, slength):\n",
    "    output = [None]*len(D)\n",
    "    i = 0\n",
    "    while i < len(D):\n",
    "        parent = [None]*2\n",
    "        x = np.random.uniform(0, slength, int(p[i]))\n",
    "        y = np.random.uniform(0, slength, int(p[i]))\n",
    "        parent[0] = x\n",
    "        parent[1] = y\n",
    "        output[i] = parent\n",
    "        i += 1\n",
    "    return output\n",
    "\n",
    "initp_0 = 2\n",
    "Distance = np.arange(2, 8, 2)\n",
    "pin = Pixels(Distance, initp_0)   "
   ]
  },
  {
   "cell_type": "code",
   "execution_count": null,
   "id": "3810c806-a73e-4940-b22b-8737d8f23da8",
   "metadata": {},
   "outputs": [],
   "source": [
    "def flux(lst_pixel):\n",
    "    return sum(lst_pixel)/len(lst_pixel)\n",
    "\n",
    "def nstars(lst_all, n_pixel):\n",
    "    return len(lst_all)/n_pixel\n",
    "\n",
    "def variance():\n",
    "    return (flux(lst_pixel) * nstars(lst_all, n_pixel) ** 0.5) ** 2"
   ]
  }
 ],
 "metadata": {
  "kernelspec": {
   "display_name": "Python 3 (ipykernel)",
   "language": "python",
   "name": "python3"
  },
  "language_info": {
   "codemirror_mode": {
    "name": "ipython",
    "version": 3
   },
   "file_extension": ".py",
   "mimetype": "text/x-python",
   "name": "python",
   "nbconvert_exporter": "python",
   "pygments_lexer": "ipython3",
   "version": "3.9.10"
  }
 },
 "nbformat": 4,
 "nbformat_minor": 5
}
