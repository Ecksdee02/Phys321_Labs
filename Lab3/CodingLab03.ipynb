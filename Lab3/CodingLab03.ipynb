{
 "cells": [
  {
   "cell_type": "code",
   "execution_count": 9,
   "id": "ff579a46-85fe-4366-9ed8-a9f7e5a137c4",
   "metadata": {},
   "outputs": [],
   "source": [
    "import numpy as np\n",
    "import matplotlib.pyplot as plt\n",
    "%matplotlib inline\n",
    "from scipy.optimize import curve_fit \n",
    "\n",
    "#Generates Number of Stars in each Frame [p(D)], of which there are len(D)\n",
    "def Pixels(D, p_0):\n",
    "    p=[None]*len(D)\n",
    "    i=0\n",
    "    while i< len(D):\n",
    "        p[i] = p_0*(D[i]/D[0])**2\n",
    "        i += 1\n",
    "    return p\n",
    "\n",
    "#Generates a D length array, where each entry has p random coordinates corresponding to the location of stars\n",
    "#of a given frame of distance D\n",
    "def Distribution(D, p, slength):\n",
    "    output = [None]*len(D)\n",
    "    i = 0\n",
    "    while i < len(D):\n",
    "        parent = [None]*2\n",
    "        x = np.random.uniform(0, slength, int(p[i]))\n",
    "        y = np.random.uniform(0, slength, int(p[i]))\n",
    "        parent[0] = x\n",
    "        parent[1] = y\n",
    "        output[i] = parent\n",
    "        i += 1\n",
    "    return output\n",
    "\n",
    "initp_0 = 2\n",
    "Distance = np.arange(2, 100, 2)\n",
    "pin = Pixels(Distance, initp_0)   \n",
    "test = Distribution(Distance, pin, 2)"
   ]
  },
  {
   "cell_type": "code",
   "execution_count": 1,
   "id": "3810c806-a73e-4940-b22b-8737d8f23da8",
   "metadata": {},
   "outputs": [],
   "source": [
    "def nstars(lst_all, slength):\n",
    "    n_pixel = slength**2 * 2 \n",
    "    output = []\n",
    "    i = 0\n",
    "    while i < len(lst_all):\n",
    "        output.append(len(lst_all[i])/n_pixel)\n",
    "        i += 1\n",
    "    return output\n",
    "\n",
    "def fluxStdv(lst_all, slength, D):\n",
    "    variance = nstars(lst_all, slength)\n",
    "    flux = []\n",
    "    i = 0\n",
    "    while i < len(D):\n",
    "        flux.append(1/(D[i]/D[0])**2)\n",
    "        i += 1\n",
    "    return flux*np.sqrt(variance)"
   ]
  },
  {
   "cell_type": "code",
   "execution_count": 7,
   "id": "140ba304-7b6a-47d3-b7f5-82dd311afcc1",
   "metadata": {},
   "outputs": [
    {
     "data": {
      "text/plain": [
       "[<matplotlib.lines.Line2D at 0x21810fb24f0>]"
      ]
     },
     "execution_count": 7,
     "metadata": {},
     "output_type": "execute_result"
    },
    {
     "data": {
      "image/png": "[encoded data removed]",
      "text/plain": [
       "<Figure size 432x288 with 1 Axes>"
      ]
     },
     "metadata": {
      "needs_background": "light"
     },
     "output_type": "display_data"
    }
   ],
   "source": [
    "plt.plot(Distance, fluxStdv(test, 2, Distance), label = \"actual\")\n",
    "plt.legend()\n",
    "\n",
    "def func(x, a, b, c):\n",
    "    return a/(x-b) + c\n",
    "\n",
    "\n",
    "popt, pcov = curve_fit(func, Distance, fluxStdv(test, 2, Distance))\n",
    "plt.plot(func(Distance, popt[0], popt[1], popt[2]))"
   ]
  },
  {
   "cell_type": "code",
   "execution_count": null,
   "id": "3b57d878",
   "metadata": {},
   "outputs": [],
   "source": []
  },
  {
   "cell_type": "code",
   "execution_count": null,
   "id": "9762911e",
   "metadata": {},
   "outputs": [],
   "source": []
  }
 ],
 "metadata": {
  "kernelspec": {
   "display_name": "Python 3 (ipykernel)",
   "language": "python",
   "name": "python3"
  },
  "language_info": {
   "codemirror_mode": {
    "name": "ipython",
    "version": 3
   },
   "file_extension": ".py",
   "mimetype": "text/x-python",
   "name": "python",
   "nbconvert_exporter": "python",
   "pygments_lexer": "ipython3",
   "version": "3.9.10"
  }
 },
 "nbformat": 4,
 "nbformat_minor": 5
}
