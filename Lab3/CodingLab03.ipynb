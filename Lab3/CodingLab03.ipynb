{
 "cells": [
  {
   "cell_type": "code",
   "execution_count": 63,
   "id": "ff579a46-85fe-4366-9ed8-a9f7e5a137c4",
   "metadata": {},
   "outputs": [
    {
     "name": "stdout",
     "output_type": "stream",
     "text": [
      "[1.58543516 1.69735157 1.33532156 1.88493262 0.52981867 0.03334944\n",
      " 1.24348237 1.57198968]\n"
     ]
    }
   ],
   "source": [
    "import numpy as np\n",
    "import matplotlib.pyplot as plt\n",
    "%matplotlib inline\n",
    "from scipy.optimize import curve_fit \n",
    "\n",
    "#Generates Number of Stars in each Frame [p(D)], of which there are len(D)\n",
    "def Pixels(D, p_0):\n",
    "    p=[None]*len(D)\n",
    "    i=0\n",
    "    while i< len(D):\n",
    "        p[i] = p_0*(D[i]/D[0])**2\n",
    "        i += 1\n",
    "    return p\n",
    "\n",
    "#Generates a D length array, where each entry has p random coordinates corresponding to the location of stars\n",
    "#of a given frame of distance D\n",
    "def Distribution(D, p, slength):\n",
    "    output = [None]*len(D)\n",
    "    i = 0\n",
    "    while i < len(D):\n",
    "        parent = [None]*2\n",
    "        x = np.random.uniform(0, slength, int(p[i]))\n",
    "        y = np.random.uniform(0, slength, int(p[i]))\n",
    "        parent[0] = x\n",
    "        parent[1] = y\n",
    "        output[i] = parent\n",
    "        i += 1\n",
    "    return output\n",
    "\n",
    "initp_0 = 2\n",
    "Distance = np.arange(2, 100, 1)\n",
    "pin = Pixels(Distance, initp_0)   \n",
    "test = Distribution(Distance, pin, 2)\n",
    "print(test[2][0])"
   ]
  },
  {
   "cell_type": "code",
   "execution_count": 105,
   "id": "3810c806-a73e-4940-b22b-8737d8f23da8",
   "metadata": {},
   "outputs": [],
   "source": [
    "#Defines the variance for all the stars at a given distance\n",
    "def nstars(lst_all, slength):\n",
    "    n_pixel = slength**4 \n",
    "    output = [None]*len(lst_all)\n",
    "    i = 0\n",
    "    while i < len(lst_all):\n",
    "        output[i] = len(lst_all[i][0])/n_pixel\n",
    "        i += 1\n",
    "    return output\n",
    "\n",
    "#Defines the standard deviation of the flux for all the stars at a given distance\n",
    "#Here, we take the luminosity of each star to be = 1 and the flux at a Distance = 1 to be 1 for simplicity of calculations\n",
    "def fluxStdv(lst_all, slength, D):\n",
    "    variance = nstars(lst_all, slength)\n",
    "    flux = [None]*len(D)\n",
    "    i = 0\n",
    "    while i < len(D):\n",
    "        flux[i] = 1/(D[i]/D[0])**2\n",
    "        i += 1\n",
    "    return flux*np.sqrt(variance)"
   ]
  },
  {
   "cell_type": "code",
   "execution_count": null,
   "id": "140ba304-7b6a-47d3-b7f5-82dd311afcc1",
   "metadata": {},
   "outputs": [],
   "source": [
    "#Curve fitting to show inverse proportionality\n",
    "def Fit(x, A, B):\n",
    "    return A*(1/x)+B\n",
    "\n",
    "#Fitting parameters to Fit function\n",
    "param, cov = curve_fit(Fit, Distance, fluxStdv(test, 5, Distance))\n",
    "\n",
    "#Plot of our generated astronomical data (as though through a fixed telescope frame) and a plot of distance versus standard\n",
    "#deviation of flux\n",
    "fig, ax = plt.subplots(1, 2, tight_layout=True, figsize=[15, 7.5])\n",
    "\n",
    "for i in np.arange(0, len(Distance)):\n",
    "    ax[0].scatter(test[i][0], test[i][1], s=0.2, zorder=-100)\n",
    "\n",
    "ax[1].plot(Distance, Fit(Distance, *param), label='Curve fit for $\\sigma_{F*} \\propto 1/d$')\n",
    "ax[1].scatter(Distance, fluxStdv(test, 5, Distance), s = 20, label='Calculated $\\sigma_{F*}$')\n",
    "ax[1].set_xlabel('Distance')\n",
    "ax[1].set_ylabel('$\\sigma_{F*}$')\n",
    "ax[1].legend()\n",
    "\n",
    "ax[0].xaxis.set_visible(False)\n",
    "ax[0].yaxis.set_visible(False)\n",
    "ax[0].vlines(np.arange(0, 2, 2/25), 0, 2, linewidth=1.3)\n",
    "ax[0].hlines(np.arange(0, 2, 2/25), 0, 2, linewidth=1.3)\n",
    "\n",
    "fig.savefig('astronomicalplot.pdf')"
   ]
  },
  {
   "cell_type": "code",
   "execution_count": null,
   "id": "8191628e",
   "metadata": {},
   "outputs": [],
   "source": []
  }
 ],
 "metadata": {
  "kernelspec": {
   "display_name": "Python 3 (ipykernel)",
   "language": "python",
   "name": "python3"
  },
  "language_info": {
   "codemirror_mode": {
    "name": "ipython",
    "version": 3
   },
   "file_extension": ".py",
   "mimetype": "text/x-python",
   "name": "python",
   "nbconvert_exporter": "python",
   "pygments_lexer": "ipython3",
   "version": "3.9.7"
  }
 },
 "nbformat": 4,
 "nbformat_minor": 5
}
