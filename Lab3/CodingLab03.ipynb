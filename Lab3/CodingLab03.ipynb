{
 "cells": [
  {
   "cell_type": "code",
   "execution_count": 11,
   "id": "ff579a46-85fe-4366-9ed8-a9f7e5a137c4",
   "metadata": {},
   "outputs": [
    {
     "name": "stdout",
     "output_type": "stream",
     "text": [
      "[[array([1.55062277, 1.83197209]), array([0.17921152, 1.50387523])], [array([1.91977263, 0.32750448, 0.97379494, 0.10003913, 1.46055644,\n",
      "       1.76220679, 0.61909788, 0.45077955]), array([0.23756833, 0.07725074, 1.54742959, 1.08795122, 1.07701722,\n",
      "       0.43941934, 0.77331862, 1.05417741])], [array([1.19202946, 1.42927601, 0.54670009, 0.1398873 , 1.40472072,\n",
      "       1.80946454, 0.64567376, 1.86712102, 0.46664691, 1.62988857,\n",
      "       1.16920293, 0.21009226, 0.37061475, 1.17164774, 0.57538721,\n",
      "       0.15856671, 1.98564014, 1.38341283]), array([1.79956436, 0.26478921, 1.04393017, 0.07337916, 1.21567367,\n",
      "       0.55496133, 1.52612752, 1.73525541, 1.11021266, 0.80564656,\n",
      "       0.95259113, 0.61344984, 1.282533  , 0.36739566, 1.03865401,\n",
      "       1.38507542, 0.49973728, 0.94771551])]]\n"
     ]
    }
   ],
   "source": [
    "import numpy as np\n",
    "import matplotlib.pyplot as plt\n",
    "%matplotlib inline\n",
    "from scipy.optimize import curve_fit \n",
    "\n",
    "#Generates Number of Stars in each Frame [p(D)], of which there are len(D)\n",
    "def Pixels(D, p_0):\n",
    "    p=[None]*len(D)\n",
    "    i=0\n",
    "    while i< len(D):\n",
    "        p[i] = p_0*(D[i]/D[0])**2\n",
    "        i += 1\n",
    "    return p\n",
    "\n",
    "#Generates p random coordinates, representing stars, for a given frame of distance D\n",
    "def Distribution(D, p, slength):\n",
    "    output = [None]*len(D)\n",
    "    i = 0\n",
    "    while i < len(D):\n",
    "        parent = [None]*2\n",
    "        x = np.random.uniform(0, slength, int(p[i]))\n",
    "        y = np.random.uniform(0, slength, int(p[i]))\n",
    "        parent[0] = x\n",
    "        parent[1] = y\n",
    "        output[i] = parent\n",
    "        i += 1\n",
    "    return output\n",
    "\n",
    "initp_0 = 2\n",
    "Distance = np.arange(2, 8, 2)\n",
    "pin = Pixels(Distance, initp_0)   \n",
    "print(Distribution(Distance, pin, 2))"
   ]
  },
  {
   "cell_type": "code",
   "execution_count": null,
   "id": "3810c806-a73e-4940-b22b-8737d8f23da8",
   "metadata": {},
   "outputs": [],
   "source": [
    "def flux(lst_pixel):\n",
    "    return sum(lst_pixel)/len(lst_pixel)\n",
    "\n",
    "def nstars(lst_all, n_pixel):\n",
    "    return len(lst_all)/n_pixel\n",
    "\n",
    "def variance():\n",
    "    return (flux(lst_pixel) * nstars(lst_all, n_pixel) ** 0.5) ** 2"
   ]
  }
 ],
 "metadata": {
  "kernelspec": {
   "display_name": "Python 3 (ipykernel)",
   "language": "python",
   "name": "python3"
  },
  "language_info": {
   "codemirror_mode": {
    "name": "ipython",
    "version": 3
   },
   "file_extension": ".py",
   "mimetype": "text/x-python",
   "name": "python",
   "nbconvert_exporter": "python",
   "pygments_lexer": "ipython3",
   "version": "3.9.10"
  }
 },
 "nbformat": 4,
 "nbformat_minor": 5
}
