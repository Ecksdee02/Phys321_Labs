{
 "cells": [
  {
   "cell_type": "code",
   "execution_count": 11,
   "id": "ff579a46-85fe-4366-9ed8-a9f7e5a137c4",
   "metadata": {},
   "outputs": [],
   "source": [
    "import numpy as np\n",
    "import matplotlib.pyplot as plt\n",
    "%matplotlib inline\n",
    "from scipy.optimize import curve_fit \n",
    "\n",
    "#Generates Number of Stars in each Frame [p(D)], of which there are len(D)\n",
    "def Pixels(D, p_0):\n",
    "    p=[None]*len(D)\n",
    "    i=0\n",
    "    while i< len(D):\n",
    "        p[i] = p_0*(D[i]/D[0])**2\n",
    "        i += 1\n",
    "    return p\n",
    "\n",
    "#Generates a D length array, where each entry has p random coordinates corresponding to the location of stars\n",
    "#of a given frame of distance D\n",
    "def Distribution(D, p, slength):\n",
    "    output = [None]*len(D)\n",
    "    i = 0\n",
    "    while i < len(D):\n",
    "        parent = [None]*2\n",
    "        x = np.random.uniform(0, slength, int(p[i]))\n",
    "        y = np.random.uniform(0, slength, int(p[i]))\n",
    "        parent[0] = x\n",
    "        parent[1] = y\n",
    "        output[i] = parent\n",
    "        i += 1\n",
    "    return output\n",
    "\n",
    "initp_0 = 2\n",
    "Distance = np.arange(1, 100, 2)\n",
    "pin = Pixels(Distance, initp_0)   \n",
    "test = Distribution(Distance, pin, 2)"
   ]
  },
  {
   "cell_type": "code",
   "execution_count": 12,
   "id": "3810c806-a73e-4940-b22b-8737d8f23da8",
   "metadata": {},
   "outputs": [
    {
     "name": "stdout",
     "output_type": "stream",
     "text": [
      "[0.5        0.16666667 0.1        0.07142857 0.05555556 0.04545455\n",
      " 0.03846154 0.03333333 0.02941176 0.02631579 0.02380952 0.02173913\n",
      " 0.02       0.01851852 0.01724138 0.01612903 0.01515152 0.01428571\n",
      " 0.01351351 0.01282051 0.01219512 0.01162791 0.01111111 0.0106383\n",
      " 0.01020408 0.00980392 0.00943396 0.00909091 0.00877193 0.00847458\n",
      " 0.00819672 0.00793651 0.00769231 0.00746269 0.00724638 0.00704225\n",
      " 0.00684932 0.00666667 0.00649351 0.00632911 0.00617284 0.0060241\n",
      " 0.00588235 0.00574713 0.00561798 0.00549451 0.00537634 0.00526316\n",
      " 0.00515464 0.00505051]\n",
      "[0.25, 2.25, 6.25, 12.25, 20.25, 30.25, 42.25, 56.25, 72.25, 90.25, 110.25, 132.25, 156.25, 182.25, 210.25, 240.25, 272.25, 306.25, 342.25, 380.25, 420.25, 462.25, 506.25, 552.25, 600.25, 650.25, 702.25, 756.25, 812.25, 870.25, 930.25, 992.25, 1056.25, 1122.25, 1190.25, 1260.25, 1332.25, 1406.25, 1482.25, 1560.25, 1640.25, 1722.25, 1806.25, 1892.25, 1980.25, 2070.25, 2162.25, 2256.25, 2352.25, 2450.25]\n"
     ]
    }
   ],
   "source": [
    "def nstars(lst_all, slength):\n",
    "    n_pixel = slength**2 * 2 \n",
    "    output = [None]*len(lst_all)\n",
    "    i = 0\n",
    "    while i < len(lst_all):\n",
    "        output[i] = len(lst_all[i][0])/n_pixel\n",
    "        i += 1\n",
    "    return output\n",
    "\n",
    "def fluxStdv(lst_all, slength, D):\n",
    "    variance = nstars(lst_all, slength)\n",
    "    flux = [None]*len(D)\n",
    "    i = 0\n",
    "    while i < len(D):\n",
    "        flux[i] = 1/(D[i]/D[0])**2\n",
    "        i += 1\n",
    "    return flux*np.sqrt(variance)\n",
    "\n",
    "print(fluxStdv(test, 2, Distance))\n",
    "print(nstars(test, 2))"
   ]
  },
  {
   "cell_type": "code",
   "execution_count": 15,
   "id": "140ba304-7b6a-47d3-b7f5-82dd311afcc1",
   "metadata": {},
   "outputs": [
    {
     "data": {
      "text/plain": [
       "[<matplotlib.lines.Line2D at 0x2ba3f756760>]"
      ]
     },
     "execution_count": 15,
     "metadata": {},
     "output_type": "execute_result"
    },
    {
     "data": {
      "image/png": "[encoded data removed]",
      "text/plain": [
       "<Figure size 432x288 with 1 Axes>"
      ]
     },
     "metadata": {
      "needs_background": "light"
     },
     "output_type": "display_data"
    }
   ],
   "source": [
    "plt.scatter(Distance, fluxStdv(test, 2, Distance), s = 5)\n",
    "plt.plot(Distance, 1/Distance)"
   ]
  },
  {
   "cell_type": "code",
   "execution_count": null,
   "id": "8191628e",
   "metadata": {},
   "outputs": [],
   "source": []
  }
 ],
 "metadata": {
  "kernelspec": {
   "display_name": "Python 3 (ipykernel)",
   "language": "python",
   "name": "python3"
  },
  "language_info": {
   "codemirror_mode": {
    "name": "ipython",
    "version": 3
   },
   "file_extension": ".py",
   "mimetype": "text/x-python",
   "name": "python",
   "nbconvert_exporter": "python",
   "pygments_lexer": "ipython3",
   "version": "3.9.10"
  }
 },
 "nbformat": 4,
 "nbformat_minor": 5
}
